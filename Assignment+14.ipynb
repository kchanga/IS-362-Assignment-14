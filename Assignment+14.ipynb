{
 "cells": [
  {
   "cell_type": "markdown",
   "metadata": {},
   "source": [
    "# Recommender Systems - ebay\n",
    "Your task is to analyze an existing recommender system that you find interesting. You should:\n",
    "\n",
    "Perform a Scenario Design analysis as described below. Consider whether it makes sense for your selected recommender system to perform scenario design twice, once for the organization (e.g. Amazon.com) and once for the organization's customers.\n",
    "\n",
    "Attempt to reverse engineer what you can about the site, from the site interface and any available information that you can find on the Internet or elsewhere.\n",
    "\n",
    "Include specific recommendations about how to improve the site's recommendation capabilities going forward. Create your report using a Jupyter notebook, and create a discussion thread with a link to the GitHub repo where your Jupyter Notebook resides. You are not expected to need to write code for this discussion assignment."
   ]
  },
  {
   "cell_type": "code",
   "execution_count": 1,
   "metadata": {},
   "outputs": [
    {
     "data": {
      "text/html": [
       "<img src=\"https://upload.wikimedia.org/wikipedia/commons/thumb/1/1b/EBay_logo.svg/2000px-EBay_logo.svg.png\"/>"
      ],
      "text/plain": [
       "<IPython.core.display.Image object>"
      ]
     },
     "execution_count": 1,
     "metadata": {},
     "output_type": "execute_result"
    }
   ],
   "source": [
    "from IPython.display import Image\n",
    "from IPython.core.display import HTML \n",
    "Image(url= \"https://upload.wikimedia.org/wikipedia/commons/thumb/1/1b/EBay_logo.svg/2000px-EBay_logo.svg.png\")"
   ]
  },
  {
   "cell_type": "markdown",
   "metadata": {},
   "source": [
    "**TARGET USERS**\n",
    "\n",
    "Ebays target users are it's constumers, who access the website on their computers or via mobile applications. Users initiate the clicks necessary for “data” gathering as they search for items and participate in various auctions. Every item people search for items on Ebay, data is automatically gathered and processed by algorthims which recommend similar items based on those searches."
   ]
  },
  {
   "cell_type": "markdown",
   "metadata": {},
   "source": [
    "**KEY GOALS**\n",
    "\n",
    "Ebays key goals are to generate as much revenue and site traffic as possible. Ebay uses various strategies to achieve these goals, such as periodically sending emails to users to inform them about newly listed items that are similar to items that you have shown an interest in. Another way Ebay creates site traffic is by periodically offering its customers coupon codes and discounts on certain items, and by allowing users to list auction items for free."
   ]
  },
  {
   "cell_type": "markdown",
   "metadata": {},
   "source": [
    "**ACCOMPLISHING GOALS**\n",
    "\n",
    "Ebay accomplishes their goals by collecting user data which they use to cater to their customers. They make sure that their website is always online and never needs to shutdown for maintenace. They make the website and mobile app user interfaces are simple and easy to use. They use a rating system to determine the good sellers from the bad sellers and they allow buyers and sellers to communicate via messages. They also allow users to file \"cases\" for any disputes that may occur between buyers and sellers."
   ]
  },
  {
   "cell_type": "markdown",
   "metadata": {},
   "source": [
    "**Conclusion**\n",
    "\n",
    "In conclusion, Ebay will continue to be one of the largest e-commerce companies as long as they continue to gather customer data and use it to cater to their customers by offering them deals on certain items that they may be interested in and allowing uses to list auction items for free."
   ]
  }
 ],
 "metadata": {
  "kernelspec": {
   "display_name": "Python 2",
   "language": "python",
   "name": "python2"
  },
  "language_info": {
   "codemirror_mode": {
    "name": "ipython",
    "version": 2
   },
   "file_extension": ".py",
   "mimetype": "text/x-python",
   "name": "python",
   "nbconvert_exporter": "python",
   "pygments_lexer": "ipython2",
   "version": "2.7.13"
  }
 },
 "nbformat": 4,
 "nbformat_minor": 2
}
